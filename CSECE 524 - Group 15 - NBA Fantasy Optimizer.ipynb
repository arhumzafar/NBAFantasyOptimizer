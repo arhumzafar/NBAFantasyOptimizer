{
 "cells": [
  {
   "cell_type": "markdown",
   "metadata": {},
   "source": [
    "### CS/ECE/ISyE 524 &mdash; Introduction to Optimization &mdash; Spring 2020 ###\n",
    "\n",
    "# NBA Fantasy Team Optimizer #\n",
    "\n",
    "#### Arhum Zafar (azafar2@wisc.edu), Jiun-Ting Chen (jchen857@wisc.edu), Dhruchita Patel (dpatel39@wisc.edu)\n",
    "\n",
    "*****\n",
    "\n",
    "### Table of Contents\n",
    "\n",
    "1. [Introduction](#1.-Introduction)\n",
    "1. [Mathematical Model](#2.-Mathematical-model)\n",
    "1. [Solution](#3.-Solution)\n",
    "1. [Results and Discussion](#4.-Results-and-discussion)\n",
    "1. [Conclusion](#5.-Conclusion)"
   ]
  },
  {
   "cell_type": "markdown",
   "metadata": {
    "collapsed": true
   },
   "source": [
    "## 1. Introduction ##\n",
    "\n",
    "In the 1980's, a New York City sportswriter named Daniel Okrent created fantasy sports with the idea of allowing sports fans to experience a side of sports that they had never experienced. Fantasy sports are internet simulation-based games where players assemble virtual teams of actual professional players. These professional players are ranked by their statistical in-game performance and are then selected by users who place them on their respective teams. These teams then compete against one another based on the performance of team's players in actual games. In a standard fantasy league, winning games results in points that a team gets to keep. At the end of the fantasy season, the team with the most points wins the league (the championship). In fantasy basketball, a **fantasy score** is a metric that considers the fundamental statistics (games played, field goal %, three-point%, points per game, rebounds, turnovers, and more) in a basketball game as a number. <br>\n",
    "<br>\n",
    "\n",
    "![harden](harden.png)<br>\n",
    "In the above image, ***Total*** corresponds to the player's fantasy score.<br>\n",
    "<br>\n",
    "\n",
    "For the past couple of years, fantasy basketball has been growing with increasing popularity. This emerging increase has resulted in the demand of fantasy players to find a way to increase their chances of success with their fantasy team. From simulation software, to predictive analytics, many different tools/methods currently exist to aid fantasy users on which players to select onto their teams, each with their own pros and cons. To address this demand, our group attempted to create the ideal tool that fantasy players can use to build their perfect team.\n",
    "\n",
    "For this project, we have built an optimization model that takes all 450 current players in the NBA and builds the best fantasy team possible in order to guarantee success in a fantasy basketball league. This model considers each player’s fantasy score, position, salary, team, and more to find whether or not a respective player is the right fit. Additionally, the model also considers which players are best suited to come off the bench as “backup”, when certain players are injured or are not playing.\n",
    "\n",
    "We collected our data, including in-game statistics, player salary, position, and more on all NBA players in the 2019-2020 season from [Hashtag Basketball](https://hashtagbasketball.com/fantasy-basketball-rankings) and [Basketball-Reference](https://www.basketball-reference.com/). Both websites refresh and update their data logs daily (while the season is ongoing), ensuring data accuracy and reliability. In order to collect this data, we copy the appropriate stat charts and place them into an Excel spreadsheet."
   ]
  },
  {
   "cell_type": "markdown",
   "metadata": {
    "collapsed": true
   },
   "source": [
    "## 2. Mathematical model ##\n",
    "\n",
    "Since we are trying to create a fantasy team using players with high fantasy scores, we want to **maximize the team's average fantasy score**, subject to the applicable constraints. There is one set of primary decision variables (**selected**) and 3 major constraints: <br> \n",
    "### (1) The number of players on a team<br>\n",
    "In basketball, a team must have 5 of its players on the floor at any given time. Our optimization model will consider the number of open spots on the team, and will select players to fit those positions. Additionally, the model will also choose *bench players* that provide backup for the starting 5.\n",
    "### (2) A salary constraint considering the NBA's current salary cap<br>\n",
    "As NBA players are known for their lucrative salaries, teams must decide what players they choose based on what they can afford. In the NBA, a **salary cap** is *the maximum range of money that a team is allowed to spend on their players*. In the 2019-2020 season, the NBA salary cap falls between **109 Million to 132 Million US Dollars**. Our optimization model will choose players, considering their respective salaries, to build the optimal fantasy team while falling within the recommended team salary range.\n",
    "\n",
    "### (3) A position constraint requiring that all 5 positions on the court are filled by appropriate players. <br>\n",
    "In basketball, there are 5 positions on the court: Point Guard (PG), Shooting Guard (SG), Small Forward/Forward (SF/F), Power Forward (PF), and Center (C). The optimization model will pick players that can play these positions, as well as choose backup players in the case where our starters are injured or are not playing in a game.<br>\n",
    "<br>\n",
    "<br>\n",
    "All of these constraints will be applied to consider every single player in the NBA in order to create the most ideal fantasy team. The problem could be described as the following model: <br>\n",
    "<br>\n",
    "$$\n",
    "\\begin{aligned}\n",
    "\\underset{selected}{\\text{maximize}}\\qquad& \\sum_{n=1}^{12} selected * rank_{i} \\\\\n",
    "\\text{subject to:}\\qquad& \\sum_ sselected_{i} == 12\\\\\n",
    "\\text {}\\qquad& \\$109M \\leq (\\sum selected_{i} * salary_{i}) \\leq \\$132M\\\\\n",
    "\\text {}\\qquad& \\sum selected_{i} * pos_{i,j} \\geq, pos\\_requirement_{j}\n",
    "\\end{aligned}\n",
    "$$\n",
    "<br>\n",
    "<br>\n",
    "***where:*** <br>\n",
    "<br>\n",
    "***P*** is the number of players in our dataset, which is about 450. <br>\n",
    "<br>\n",
    "***selected*** is a P x 1 matrix representing whether a player is chosen to be on the team; assigned a **1** if they are selected, **0** if not. <br>\n",
    "<br>\n",
    "***rank*** is a P x 1 matrix representing the overall fantasy score for each player, with the maximum rank being 100.\n",
    "* **rank_i** $\\leq$ 100\n",
    "<br>\n",
    "\n",
    "<br>***salary*** is a P x 1 matrix that contains the respective salaries for each player in *millions of US Dollars.* <br>\n",
    "* \\$109Millon & \\\\$132 Million are the respective lower and upper bounds for the NBA Salary Cap for the 2019-2020 season.\n",
    "<br>\n",
    "\n",
    "<br> ***position*** is a P x 5 matrix that corresponds to what position(s) a player can be assigned to.\n",
    "* **position**[i j] is assigned a **1** if player *i* can play position *j*\n",
    "* assigned a **0** if not.\n",
    "<br>\n",
    "\n",
    "<br> ***pos_requirement*** is a 5 x 1 matrix that ensures that each position on the court is fulfilled by a player.\n",
    "* 0 $\\leq$ *value* $\\leq$ 12"
   ]
  },
  {
   "cell_type": "markdown",
   "metadata": {
    "collapsed": true
   },
   "source": [
    "## 3. Solution ##"
   ]
  },
  {
   "cell_type": "markdown",
   "metadata": {},
   "source": [
    "### Part A - Fantasy Score Optimizer"
   ]
  },
  {
   "cell_type": "markdown",
   "metadata": {},
   "source": [
    "Below, we import the dataset containing information on every active player in the 2019-2020 NBA season. After importing the data, we immediately create new matrices that consider each player's respective position, salary, and fantasy score."
   ]
  },
  {
   "cell_type": "code",
   "execution_count": 1,
   "metadata": {},
   "outputs": [],
   "source": [
    "using CSV\n",
    "nba = CSV.read(\"nba.csv\", header = 1, types=Dict(:Salary => Int));\n",
    "position = nba[!, [:C, :PF, :SF, :SG, :PG]];\n",
    "Salary = nba[:,:Salary];\n",
    "Score = nba[!,:FantasyScore];"
   ]
  },
  {
   "cell_type": "markdown",
   "metadata": {},
   "source": [
    "__12 Player Optimizer__"
   ]
  },
  {
   "cell_type": "code",
   "execution_count": 2,
   "metadata": {
    "scrolled": false
   },
   "outputs": [
    {
     "name": "stdout",
     "output_type": "stream",
     "text": [
      "Academic license - for non-commercial use only\n",
      "Academic license - for non-commercial use only\n",
      "termination status: OPTIMAL\n",
      "\n",
      "NBA FANTASY TEAM WITH 12 PLAYERS\n",
      "\n",
      "Players: [\"James Harden\", \"Anthony Davis\", \"Trae Young\", \"John Collins?\", \"Luka Doncic\", \"Brandon Ingram\", \"Jayson Tatum\", \"Deandre Ayton?\", \"Jonathan Isaac?\", \"Pascal Siakam\", \"Ben Simmons?\", \"Bam Adebayo\"]\n",
      "\n",
      "Total Salary: $125920633\n"
     ]
    }
   ],
   "source": [
    "using JuMP, Gurobi\n",
    "m = Model(with_optimizer(Gurobi.Optimizer,OutputFlag = false))\n",
    "@variable(m, selected[1:444], Bin)\n",
    "\n",
    "# Select 12 players\n",
    "@constraint(m, sum(selected[i] for i in 1:444) == 12)  \n",
    "\n",
    "# Salary Constraint \n",
    "@constraint(m, 109000000 .<= sum(selected[i] * Salary[i] for i in 1:444) .<= 132000000)\n",
    "\n",
    "# More than 6 guards in a team  \n",
    "@constraint(m, sum(selected[i] * (position[i,:SG]+ position[i,:PG]) for i in 1:444) .>= 6) \n",
    "\n",
    "# More than 4 forwards\n",
    "@constraint(m, sum(selected[i] * (position[i,:SF]+ position[i,:PF]) for i in 1:444) .>= 4) \n",
    "\n",
    "# At least one center\n",
    "@constraint(m, sum(selected[i] * (position[i,:C]) for i in 1:444) .>= 1) \n",
    "\n",
    "# Maximize score\n",
    "@objective(m, Max, sum(selected[i]*Score[i] for i in 1:444))\n",
    ";\n",
    "\n",
    "# Optimize\n",
    "optimize!(m)\n",
    "println(\"termination status: \", termination_status(m))\n",
    "println()\n",
    "\n",
    "# Assign players to team and print names\n",
    "y = JuMP.value.(selected)\n",
    "# Pick up if the esimated value >0.5\n",
    "label = findall(x->x>0, y)  \n",
    "\n",
    "println(\"NBA FANTASY TEAM WITH 12 PLAYERS\")\n",
    "println()\n",
    "println(\"Players: \", nba[label, :Player])\n",
    "println()\n",
    "println(\"Total Salary: \\$\", sum(Salary[label, :]))\n"
   ]
  },
  {
   "cell_type": "markdown",
   "metadata": {},
   "source": [
    "Using the **12-Player Fantasy Score Optimizer**, the ideal fantasy team would consist of: *James Harden (PG), Anthony Davis (PF), Trae Young (PG), John Collins (PF), Luka Doncic (PG), Brandon Ingram (SF), Jayson Tatum (SF), Deandre Ayton (C), Jonathan Isaac (PF), Pascal Siakam (PF), Ben Simmons (PG), amd Bam Adebayo (PF)*. <br>\n",
    "<br>\n",
    "The team salary for this 12 player roster would be **$125,920,633** - which perfectly falls within the NBA salary cap."
   ]
  },
  {
   "cell_type": "markdown",
   "metadata": {},
   "source": [
    "#### 8 Player Optimizer\n",
    "\n",
    "When doing our research on fantasy basketball, our group noticed that most commonly, a majority of fantasy basketball teams consisted of either **12** or **8** players. In order to make our model useful to fantasy users who desire to create teams with exactly 8 players, we created our **8-Player Fantasy Score Optimizer** below. "
   ]
  },
  {
   "cell_type": "code",
   "execution_count": 3,
   "metadata": {},
   "outputs": [
    {
     "name": "stdout",
     "output_type": "stream",
     "text": [
      "Academic license - for non-commercial use only\n",
      "Academic license - for non-commercial use only\n",
      "\n",
      "Termination Status: OPTIMAL\n",
      "\n",
      "NBA FANTASY TEAM WITH 8 PLAYERS\n",
      "\n",
      "Players: [\"James Harden\", \"Anthony Davis\", \"Damian Lillard\", \"Trae Young\", \"John Collins?\", \"Luka Doncic\", \"Brandon Ingram\", \"Jayson Tatum\"]\n",
      "\n",
      "Total Salary: $126433745\n"
     ]
    }
   ],
   "source": [
    "using JuMP, Gurobi\n",
    "m = Model(with_optimizer(Gurobi.Optimizer, OutputFlag = false))\n",
    "\n",
    "@variable(m, selected[1:444], Bin)\n",
    "\n",
    "#PICK UP 8 PLAYERS THIS TIME instead of 12\n",
    "@constraint(m, sum(selected[i] for i in 1:444) == 8)  \n",
    "\n",
    "# Salary Constraint\n",
    "@constraint(m, 109000000 .<= sum(selected[i] * Salary[i] for i in 1:444) .<= 132000000) \n",
    "\n",
    "# More than 3 guards on the team\n",
    "@constraint(m, sum(selected[i] * (position[i,:SG]+ position[i,:PG]) for i in 1:444) .>= 3)  \n",
    "\n",
    "# More than 4 forwards on the team\n",
    "@constraint(m, sum(selected[i] * (position[i,:SF]+ position[i,:PF]) for i in 1:444) .>= 2) \n",
    "\n",
    "# At least one center\n",
    "@constraint(m, sum(selected[i] * (position[i,:C]) for i in 1:444) .>= 1)  \n",
    "\n",
    "# Maximize the score\n",
    "@objective(m, Max, sum(selected[i]*Score[i] for i in 1:444))\n",
    ";\n",
    "# Optimize\n",
    "\n",
    "optimize!(m)\n",
    "println()\n",
    "println(\"Termination Status: \", termination_status(m))\n",
    "println()\n",
    "\n",
    "# Assign players and print player names for the 8-player team, as well as the salary\n",
    "y = JuMP.value.(selected)\n",
    "label = findall(x->x>0, y)  # pick up if the esimated value >0.5\n",
    "\n",
    "println(\"NBA FANTASY TEAM WITH 8 PLAYERS\")\n",
    "println()\n",
    "println(\"Players: \", nba[label, :Player])\n",
    "println()\n",
    "println(\"Total Salary: \\$\", sum(Salary[label, :]))\n",
    "\n",
    "#nba[label, :Player], sum(Salary[label, :])"
   ]
  },
  {
   "cell_type": "markdown",
   "metadata": {},
   "source": [
    "Using the **8-Player Fantasy Score Optimizer**, the ideal fantasy team would consist of: *James Harden (PG), Anthony Davis (PF), Damian Lillard (PG), Trae Young (PG), John Collins (PF), Luka Doncic (PG), Brandon Ingram (SF), and Pascal Siakam (PF) or Jayson Tatum (SF)*. <br>\n",
    "<br>\n",
    "The salary for this 8 player roster would be **$126,433,745** - and it falls within the recommended salary cap."
   ]
  },
  {
   "cell_type": "markdown",
   "metadata": {},
   "source": [
    "### Part B - Advanced Statistics Optimizer"
   ]
  },
  {
   "cell_type": "markdown",
   "metadata": {},
   "source": [
    "Now that we have successfully found a way to use a player's **fantasy score** to create the best fantasy team for the 2019-2020 NBA season, our group continued to look for more ways to take our model a step further.<br>\n",
    "<br>\n",
    "In the realm of fantasy basketball, there are numerous users that are critics of the fantasy score, as they claim that it is a statistic that condenses a player's performance into a single number -- which is a somewhat flawed and arbitrary measure of a player's gameday performance. <br>\n",
    "<br>\n",
    "In order to address those critics, our group introduces Part B of our model, the **Advanced Statistics Optimizer**. Within this model, we created a new dataset that builds on the existing one above, adding the following statistics:\n",
    "- Assists\n",
    "- Attempted Field Goals\n",
    "- Attempted Free Throws\n",
    "- Attempted Three-Point Field Goals\n",
    "- Blocks\n",
    "- Defensive Rebounds\n",
    "- Offensive Rebounds\n",
    "- Games Played\n",
    "- Games Started\n",
    "- Made Field Goals\n",
    "- Made Free Throws\n",
    "- Made Three Point Field Goals\n",
    "- Minutes Played\n",
    "- Points\n",
    "- Fouls <br>\n",
    "<br>\n",
    "\n",
    "To obtain and assign weights associated to each of the statistics, we use a <b>Linear Regression Model</b> to determine the weights of each feature."
   ]
  },
  {
   "cell_type": "markdown",
   "metadata": {},
   "source": [
    "Below, we decide the weights of each feature. Using regression as an indicator variable, which indicates whether a team won the NBA Championship that season, by using the team's advanced statistics that season. *In order to run the below code block, you will need to install the* ***MLDataUtils*** *package*."
   ]
  },
  {
   "cell_type": "markdown",
   "metadata": {},
   "source": [
    "Once the data is loaded successfully, we split it into a training and test set using a ratio of 80% for the training of the model with 20% withheld for the evaluation of the generated model. \n",
    "            "
   ]
  },
  {
   "cell_type": "code",
   "execution_count": 4,
   "metadata": {
    "scrolled": false
   },
   "outputs": [
    {
     "name": "stderr",
     "output_type": "stream",
     "text": [
      "┌ Warning: `getindex(df::DataFrame, col_ind::ColumnIndex)` is deprecated, use `df[!, col_ind]` instead.\n",
      "│   caller = top-level scope at In[4]:7\n",
      "└ @ Core In[4]:7\n",
      "┌ Warning: `getindex(df::DataFrame, col_inds::Union{AbstractVector, Regex, Not})` is deprecated, use `df[:, col_inds]` instead.\n",
      "│   caller = top-level scope at In[4]:8\n",
      "└ @ Core In[4]:8\n"
     ]
    },
    {
     "name": "stdout",
     "output_type": "stream",
     "text": [
      "training size: (698, 7)\n",
      "testing size: (175, 7)\n"
     ]
    }
   ],
   "source": [
    "using Pkg\n",
    "# Pkg.add(\"MLDataUtils\")\n",
    "using CSV, MLDataUtils, JuMP, Statistics\n",
    "\n",
    "# team_features: 1990-2019 team average stats\n",
    "nba = CSV.read(\"team_features.csv\", header = 1);\n",
    "y = nba[:champion];\n",
    "X = nba[[:value_over_replacement_player,:win_shares, :defensive_win_shares,\n",
    "                   :win_shares_per_48_minutes, :offensive_win_shares, :age,\n",
    "                   :defensive_box_plus_minus]]\n",
    "\n",
    "# Split training (80%) and testing dataset (20%)\n",
    "(X_train, y_train), (X_test, y_test) = splitobs((X, y); at = 0.8);\n",
    "\n",
    "# Convert to matrices\n",
    "X = convert(Matrix, X_train[:,:])\n",
    "y = convert(Matrix, y_train[:,:])\n",
    "\n",
    "# Compare sizes of training and testing datasets\n",
    "println(\"training size: \", size(X_train));\n",
    "println(\"testing size: \", size(X_test));"
   ]
  },
  {
   "cell_type": "markdown",
   "metadata": {},
   "source": [
    "##### More on data normalization can be found [here](https://towardsdatascience.com/julia-for-data-science-regularized-logistic-regression-667857a7f0ce)"
   ]
  },
  {
   "cell_type": "code",
   "execution_count": 5,
   "metadata": {},
   "outputs": [],
   "source": [
    "\"\"\"\n",
    "scale_features(X)\n",
    "This function attempts to standardise the design matrix (X) user pass.\n",
    "The input data X is standardised and returned along with other learned matrices.\n",
    "A tuple with 3 elements is returned representing (Standardised data, mean, std deviation).\n",
    "\"\"\"\n",
    "\n",
    "function scale_features(X)\n",
    "    μ = mean(X, dims=1)\n",
    "    σ = std(X, dims=1)\n",
    "\n",
    "    X_norm = (X .- μ) ./ σ\n",
    "\n",
    "    return (X_norm, μ, σ);\n",
    "end\n",
    "\n",
    "\n",
    "# Normalise the testing design matrix\n",
    "\"\"\"\n",
    "transform_features(X, μ, σ)\n",
    "This function uses the mean and standard deviation values users pass to normalise a new design matrix.\n",
    "\"\"\"\n",
    "function transform_features(X, μ, σ)\n",
    "    X_norm = (X .- μ) ./ σ\n",
    "    return X_norm;\n",
    "end\n",
    "\n",
    "# Scale training features and get artificats for future use\n",
    "X, μ, σ = scale_features(X);\n",
    "\n",
    "#X_test_scaled = transform_features(X_test, μ, σ);"
   ]
  },
  {
   "cell_type": "markdown",
   "metadata": {},
   "source": [
    "__Linear Regression Weights:__"
   ]
  },
  {
   "cell_type": "code",
   "execution_count": 6,
   "metadata": {
    "scrolled": true
   },
   "outputs": [
    {
     "data": {
      "text/plain": [
       "7×1 Array{Float64,2}:\n",
       "  0.094905651979068   \n",
       " -0.6560783344444937  \n",
       "  0.35135673872718304 \n",
       "  0.009231920939974447\n",
       "  0.3667155913617212  \n",
       "  0.012967247111781188\n",
       " -0.008366665259845923"
      ]
     },
     "execution_count": 6,
     "metadata": {},
     "output_type": "execute_result"
    }
   ],
   "source": [
    "w=(X'*X)\\(X'*y)"
   ]
  },
  {
   "cell_type": "markdown",
   "metadata": {},
   "source": [
    "__Generate the index of each players based on their respective stats and the weights calculated above.__"
   ]
  },
  {
   "cell_type": "code",
   "execution_count": 7,
   "metadata": {},
   "outputs": [],
   "source": [
    "# combined: Stats of All NBA players in 2019-2020 season\n",
    "nba = CSV.read(\"combined.csv\", header = 1, types=Dict(:Salary => Int));\n",
    "position = nba[!, [:C, :PF, :SF, :SG, :PG]];\n",
    "Salary = nba[:,:Salary];\n",
    "\n",
    "x = nba[!, [:value_over_replacement_player,:win_shares, :defensive_win_shares,\n",
    "                   :win_shares_per_48_minutes, :offensive_win_shares, :age,\n",
    "                   :defensive_box_plus_minus]]\n",
    "\n",
    "x = convert(Matrix,x);\n",
    "x = transform_features(x, μ, σ)\n",
    "Index = x*w;"
   ]
  },
  {
   "cell_type": "markdown",
   "metadata": {},
   "source": [
    "\n",
    "### 12-Player Advanced Statistics Optimizer\n",
    "\n",
    "Generate a 12-player Fantasy Team by maximizing the index under the constraints of position, salary, and team budget, like we did in *Part A*."
   ]
  },
  {
   "cell_type": "code",
   "execution_count": 8,
   "metadata": {},
   "outputs": [
    {
     "name": "stdout",
     "output_type": "stream",
     "text": [
      "Academic license - for non-commercial use only\n",
      "Academic license - for non-commercial use only\n",
      "termination status: OPTIMAL\n",
      "\n",
      "NBA FANTASY TEAM USING 12-PLAYER ADVANCED STATISTICS OPTIMIZER\n",
      "\n",
      "Players: [\"Luka Doncic\", \"Jayson Tatum\", \"Trae Young\", \"Bam Adebayo\", \"Donovan Mitchell\", \"Domantas Sabonis\", \"Nikola Jokic\", \"Giannis Antetokounmpo\", \"Pascal Siakam\", \"Buddy Hield\", \"George Hill\", \"LeBron James\"]\n",
      "\n",
      "Total Salary: $130471952\n"
     ]
    }
   ],
   "source": [
    "using JuMP, Gurobi\n",
    "n = size(nba)[1]\n",
    "m = Model(with_optimizer(Gurobi.Optimizer, OutputFlag = 0))\n",
    "@variable(m,  selected[1:n], Bin)\n",
    "\n",
    "#pick up 12 players\n",
    "@constraint(m, sum(selected[i] for i in 1:n) == 12)  \n",
    "\n",
    "# Salary Constraint \n",
    "@constraint(m, 109000000 .<= sum(selected[i] * Salary[i] for i in 1:n) .<= 132000000) \n",
    "\n",
    "# More than 6 guards in a team  \n",
    "@constraint(m, sum(selected[i] * (position[i,:SG]+ position[i,:PG]) for i in 1:n) .>= 6) \n",
    "\n",
    "# More than 4 fronts\n",
    "@constraint(m, sum(selected[i] * (position[i,:SF]+ position[i,:PF]) for i in 1:n) .>= 4) \n",
    "\n",
    "# At least one center\n",
    "@constraint(m, sum(selected[i] * (position[i,:C]) for i in 1:n) .>= 1)  \n",
    "\n",
    "# Maximize score\n",
    "@objective(m, Max, sum(selected[i]*Index[i] for i in 1:n))\n",
    "\n",
    "# Optimize\n",
    "optimize!(m)\n",
    "println(\"termination status: \", termination_status(m))\n",
    "\n",
    "# Assign players and print player names for the 12-player team\n",
    "y = JuMP.value.(selected)\n",
    "label = findall(x->x>0, y)\n",
    "#nba[label, :name]\n",
    "\n",
    "println()\n",
    "println(\"NBA FANTASY TEAM USING 12-PLAYER ADVANCED STATISTICS OPTIMIZER\")\n",
    "println()\n",
    "# Print team - players names\n",
    "println(\"Players: \", nba[label, :name])\n",
    "println()\n",
    "# Print new team - total salary\n",
    "println(\"Total Salary: \\$\", sum(Salary[label, :]))"
   ]
  },
  {
   "cell_type": "markdown",
   "metadata": {},
   "source": [
    "Using the **12-Player Advanced Statistics Optimizer**, the ideal fantasy team would consist of: *Bam Adebayo (PF), Giannis Antetokounmpo (PF/SF), Luka Doncic (PG), Buddy Hield (SG), George Hill (PG), LeBron James (PF/SF), Nikola Jokic (PF/C), Donovan Mitchell (PG), Domantas Sabonis (PF), Pascal Siakam (PF), Jayson Tatum (SF), and Trae Young (PG)*. <br>\n",
    "<br>\n",
    "The salary for this 12-player roster would be **$130,471,952**, and it falls within the NBA Salary Cap."
   ]
  },
  {
   "cell_type": "markdown",
   "metadata": {},
   "source": [
    "\n",
    "### 8-Player Advanced Statistics Optimizer\n",
    "\n",
    "Generate a 8-player Fantasy Team by maximizing the index under the constraints of position, salary, and team budget, like we did in *Part A*."
   ]
  },
  {
   "cell_type": "code",
   "execution_count": 9,
   "metadata": {
    "scrolled": true
   },
   "outputs": [
    {
     "name": "stdout",
     "output_type": "stream",
     "text": [
      "Academic license - for non-commercial use only\n",
      "Academic license - for non-commercial use only\n",
      "termination status: OPTIMAL\n",
      "\n",
      "NBA FANTASY TEAM USING 8-PLAYER ADVANCED STATISTICS OPTIMIZER\n",
      "\n",
      "Players: [\"Luka Doncic\", \"Jayson Tatum\", \"Bam Adebayo\", \"Nikola Jokic\", \"Giannis Antetokounmpo\", \"Pascal Siakam\", \"Anthony Davis\", \"Damian Lillard\"]\n",
      "\n",
      "Total Salary: $130630911\n"
     ]
    }
   ],
   "source": [
    "using JuMP, Gurobi\n",
    "m = Model(with_optimizer(Gurobi.Optimizer,OutputFlag = false))\n",
    "@variable(m, selected[1:444], Bin)\n",
    "\n",
    " #pick up 8 players\n",
    "@constraint(m, sum(selected[i] for i in 1:444) == 8) \n",
    "\n",
    "# Salary Constraint\n",
    "@constraint(m, 109000000 .<= sum(selected[i] * Salary[i] for i in 1:444) .<= 132000000)\n",
    "\n",
    "# More than 6 guards in a team\n",
    "@constraint(m, sum(selected[i] * (position[i,:SG]+ position[i,:PG]) for i in 1:444) .>= 3) \n",
    "\n",
    "# More than 4 fronts\n",
    "@constraint(m, sum(selected[i] * (position[i,:SF]+ position[i,:PF]) for i in 1:444) .>= 2) \n",
    "\n",
    "# At least one center\n",
    "@constraint(m, sum(selected[i] * (position[i,:C]) for i in 1:444) .>= 1)  \n",
    "\n",
    "# Maximize score\n",
    "@objective(m, Max, sum(selected[i]*Index[i] for i in 1:444))\n",
    "optimize!(m)\n",
    "println(\"termination status: \", termination_status(m))\n",
    "\n",
    "y = JuMP.value.(selected)\n",
    "label = findall(x->x>0, y)\n",
    "#nba[label, :name], sum(Salary[label, :])\n",
    "\n",
    "println()\n",
    "println(\"NBA FANTASY TEAM USING 8-PLAYER ADVANCED STATISTICS OPTIMIZER\")\n",
    "println()\n",
    "# Print team - players names\n",
    "println(\"Players: \", nba[label, :name])\n",
    "println()\n",
    "# Print new team - total salary\n",
    "println(\"Total Salary: \\$\", sum(Salary[label, :]))"
   ]
  },
  {
   "cell_type": "markdown",
   "metadata": {},
   "source": [
    "Using the **8-Player Advanced Statistics Optimizer**, the ideal fantasy team would consist of: *Bam Adebayo (PF), Giannis Antetokounmpo (PF/SF), Luka Doncic (PG), James Harden (PG), LeBron James (PF/SF), Ben Simmons (PG), Jayson Tatum (SF), and Pascal Siakam (PF) or Damian Lillard (PG)*.<br>\n",
    "<br>\n",
    "The salary for this 8-player roster would be **$130,512,764**, and it alligns with the NBA Salary Cap."
   ]
  },
  {
   "cell_type": "markdown",
   "metadata": {
    "collapsed": true
   },
   "source": [
    "## 4. Results and discussion ##\n",
    "\n",
    "This project implements two optimization model. The first model is a straightforward Linear Program where we have applied the constraints of (1) number of players (2) salary cap (3) (various) positions of players. The second model uses Linear Regression Model with additional statistical data about top 10 closely related features.\n",
    "\n",
    "### Part A: Fantasy Score Optimizer\n",
    "\n",
    "This optimizer takes into account the players' salaries, their fantasy score and thier playing positions. A fantasy score is a metric that considers the fundamental statistics (games played, field goal %, three-point%, points per game, rebounds, turnovers, and more) in a basketball game\n",
    "\n",
    "__12-Player Fantasy Team__\n",
    "\n",
    "<i><u>Players:</u></i> James Harden (PG), Anthony Davis (PF), Trae Young (PG), John Collins (PF), Luka Doncic (PG), Brandon Ingram (SF), Jayson Tatum (SF), Deandre Ayton (C), Jonathan Isaac (PF), Pascal Siakam (PF), Ben Simmons (PG), amd Bam Adebayo (PF).\n",
    "\n",
    "<i><u>Salary:</u></i> The team salary for this 12 player roster would be **$125,920,633** - which perfectly falls within the NBA salary cap. \n",
    "\n",
    "__8-Player Fantasy Team__\n",
    "\n",
    "<i><u>Players:</u></i> James Harden (PG), Anthony Davis (PF), Karl-Anthony Towns (PF), Trae Young (PG), John Collins (PF), Luka Doncic (PG), Brandon Ingram (SF), and Pascal Siakam (PF).\n",
    "\n",
    "<i><u>Salary:</u></i> The salary for this 8 player roster would be **$126,433,745** - and it falls within the recommended salary cap.\n",
    "\n",
    "### Part B: Advanced Statistics Optimizer\n",
    "\n",
    "This optimizer uses a new dataset that builds on the existing one above, using additional statistics. We first figure out the top 10 hightly correlated features. Cosidering the below listed features, our objective remaints the same as before - to maximize the score.\n",
    "- Assists\n",
    "- Attempted Field Goals\n",
    "- Attempted Free Throws\n",
    "- Attempted Three-Point Field Goals\n",
    "- Blocks\n",
    "- Defensive Rebounds\n",
    "- Offensive Rebounds\n",
    "- Games Played\n",
    "- Games Started\n",
    "- Made Field Goals\n",
    "- Made Free Throws\n",
    "- Made Three Point Field Goals\n",
    "- Minutes Played\n",
    "- Points\n",
    "- Fouls\n",
    "\n",
    "__12-Player Fantasy Team__\n",
    "\n",
    "<i><u>Players:</u></i> Bam Adebayo (PF), Giannis Antetokounmpo (PF/SF), Luka Doncic (PG), Buddy Hield (SF), George Hill (PG), LeBron James (PF/SF), Nikola Jokic (PF), Donovan Mitchell (PG), Domantas Sabonis (PF), Pascal Siakam (PF), Jayson Tatum (SF), and Trae Young (PG).\n",
    "\n",
    "<i><u>Salary:</u></i> The salary for this 12-player roster would be **$130,471,952** and it falls within the NBA Salary Cap.\n",
    "\n",
    "__8-Player Fantasy Team__\n",
    "\n",
    "<i><u>Players:</u></i> Players in 12-Player Fantasy Team: Bam Adebayo (PF), Giannis Antetokounmpo (PF/SF), Luka Doncic (PG), James Harden (PG), LeBron James (PF/SF), Pascal Siakam (PF), Ben Simmons (PG), and Jayson Tatum (PG).\n",
    "\n",
    "<i><u>Salary:</u></i> The salary for this 8-player roster would be **$130,512,764** and it is within the NBA Salary Cap.\n",
    "\n",
    "__Discussion: NBA 2019-2020 Season__\n",
    "\n",
    "The current pandemic affects the finances of NBA season drastically. The collective bargaining agreement between the league and the players guarantees players a certain percentage of the league's basketball-related income (BRI) every year. That can range from 49-51 percent and most of that figure goes into the salary cap. However, games played without fans in the stands would cost the league a fortune not only in ticket sales, but in food, beverage, parking and merchandise sales. Television ratings might soar in a socially-distanced society, but with rights locked up years in advance, the NBA itself won't see the benefits. Its partners at ESPN and Turner News Network (TNT) would. What if games are called off entirely? That's money that the league has to return. In reality, the burden of loss will be shared by the league and the players. This would largely affect the salary caps for coming years. \n",
    "\n",
    "One possibility is that rather than drastically lowering the cap all at once, the NBA could build the losses from this season into the cap for the next several years. In some form or another, this is probably what ends up happening. \n"
   ]
  },
  {
   "cell_type": "markdown",
   "metadata": {
    "collapsed": true
   },
   "source": [
    "## 5. Conclusion ##"
   ]
  },
  {
   "cell_type": "markdown",
   "metadata": {},
   "source": [
    "The overall purpose of this project was to solve a *real-life* optimization problem using the fundamentals that we have learned in class this semester. In our group's project, the **NBA Fantasy Optimizer**, we successfully created an optimization model that takes in a dataset of NBA players, their fantasy score, salary, position, and more, to create the optimal fantasy team that would yield success in the most competitive fantasy leagues. We created this model as a tool to serve fantasy basketball users worldwide, and are confident with its functionality. <br>\n",
    "<br>\n",
    "To take things a step further, we also created another version of our model to consider all of the in-game statistics that are recorded on behalf of each player in the NBA. The new model uses linear regression to assign weights to each of the statistics, then creates the optimal fantasy team. When looking at the fantasy teams that are created from running our model(s), one would recognize the several All-Star/MVP caliber players that are listed, displaying the depth and strength of the fantasy team that our model(s) output. As a group, we are pleased with the quality of results that our optimization model gives us, and would love to see others input their own NBA datasets into the model to enhance their fantasy teams.<br>\n",
    "<br>\n",
    "Going forward, our group came up with an idea that could be an interesting add-on to our existing model. Currently, the optimization model only has constraints based on position, fantasy score, advanced statistics, and salary. But what if a fantasy user wanted to apply another constraint of their choice to the model? This new idea would allow them to do so. <br>\n",
    "<br>\n",
    "*For example, if a fantasy user wanted to create the best possible NBA fantasy team using only players younger than 25 years old, he/she could use a new constraint called* ***AGE*** *which would only consider players that are at or below a selected age. Additionally, if a user only wanted to select players for certain teams, he/she could use a new constraint called* ***TEAM***, *would which be a dictionary containing a list of desired teams to select players from*. <br>\n",
    "<br>\n",
    "If this follow-up idea was implemented, fantasy users would be able to utilize new constraints like those above to enhance their experience with the model."
   ]
  },
  {
   "cell_type": "markdown",
   "metadata": {
    "collapsed": true
   },
   "source": [
    "## 6. Author Contributions\n",
    "\n",
    "Note: The contributions in each category must sum to 100%. See Canvas for more details on what type of work belongs in each category.\n",
    "\n",
    "#### 1. Modelling  \n",
    "Arhum: 25%  \n",
    "Jiun-Ting: 25%  \n",
    "Dhruchita: 50%  \n",
    "\n",
    "  \n",
    "#### 2. Analysis  \n",
    "Arhum: 50%  \n",
    "Jiun-Ting: 25%  \n",
    "Dhruchita: 25%  \n",
    "\n",
    "\n",
    "#### 3. Data Gathering  \n",
    "Arhum: 25%  \n",
    "Jiun-Ting: 50%  \n",
    "Dhruchita: 25%  \n",
    "\n",
    "\n",
    "#### 4. Software Implementation \n",
    "Arhum: 40%  \n",
    "Jiun-Ting: 40%  \n",
    "Dhruchita: 20%  \n",
    "\n",
    "\n",
    "#### 5. Report writing\n",
    "Arhum: 40%  \n",
    "Jiun-Ting: 20%  \n",
    "Dhruchita: 40%  "
   ]
  },
  {
   "cell_type": "markdown",
   "metadata": {},
   "source": [
    "## 7. References / Citations <br>\n",
    "<br>\n",
    "\n",
    "[1] [Basketball Reference](https://www.basketball-reference.com/) <br>\n",
    "[2] [Hashtag Basketball](https://hashtagbasketball.com/fantasy-basketball-rankings) <br>\n",
    "[3] [FantasyPros](https://www.fantasypros.com/nba/rankings/overall.php) <br>\n",
    "[4] [Optimizing Fantasy Basketball - Berkeley Statistics](https://www.stat.berkeley.edu/~aldous/157/Old_Projects/lu-zhang.pdf)<br>\n",
    "[5] [ESPN - How to use the NBA schedule to win in fantasy hoops](https://www.espn.com/fantasy/basketball/story/_/id/18018706/fantasy-basketball-how-use-nba-schedule-win-fantasy-hoops)<br>\n",
    "[6] [Drafting a Fantasy Basketball Team With Help From Statistics and a Knapsack](https://medium.com/fun-with-data-and-stats/drafting-a-fantasy-basketball-team-c94967464908)\n"
   ]
  }
 ],
 "metadata": {
  "@webio": {
   "lastCommId": null,
   "lastKernelId": null
  },
  "kernelspec": {
   "display_name": "Julia 1.3.1",
   "language": "julia",
   "name": "julia-1.3"
  },
  "language_info": {
   "file_extension": ".jl",
   "mimetype": "application/julia",
   "name": "julia",
   "version": "1.3.1"
  }
 },
 "nbformat": 4,
 "nbformat_minor": 1
}
